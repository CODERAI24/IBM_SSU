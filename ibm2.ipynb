{
 "cells": [
  {
   "cell_type": "code",
   "execution_count": 1,
   "id": "2fce8bf5",
   "metadata": {},
   "outputs": [
    {
     "ename": "SyntaxError",
     "evalue": "invalid syntax (702346294.py, line 4)",
     "output_type": "error",
     "traceback": [
      "\u001b[1;36m  Cell \u001b[1;32mIn[1], line 4\u001b[1;36m\u001b[0m\n\u001b[1;33m    a.map('java':'core')\u001b[0m\n\u001b[1;37m                ^\u001b[0m\n\u001b[1;31mSyntaxError\u001b[0m\u001b[1;31m:\u001b[0m invalid syntax\n"
     ]
    }
   ],
   "source": [
    "import pandas as pd\n",
    "import numpy as np\n",
    "a=pd.Series(\"java\",\"c\",\"cpp\",np.nan)\n",
    "a.map('java':'core')"
   ]
  },
  {
   "cell_type": "code",
   "execution_count": 2,
   "id": "19f124b5",
   "metadata": {},
   "outputs": [
    {
     "ename": "NameError",
     "evalue": "name 'Emp' is not defined",
     "output_type": "error",
     "traceback": [
      "\u001b[1;31m---------------------------------------------------------------------------\u001b[0m",
      "\u001b[1;31mNameError\u001b[0m                                 Traceback (most recent call last)",
      "Cell \u001b[1;32mIn[2], line 7\u001b[0m\n\u001b[0;32m      5\u001b[0m emp_series\u001b[38;5;241m=\u001b[39mpd\u001b[38;5;241m.\u001b[39mSeries(emp)\n\u001b[0;32m      6\u001b[0m id_series\u001b[38;5;241m=\u001b[39mpd\u001b[38;5;241m.\u001b[39mSeries(\u001b[38;5;28mid\u001b[39m)\n\u001b[1;32m----> 7\u001b[0m frame\u001b[38;5;241m=\u001b[39m{Emp}\n",
      "\u001b[1;31mNameError\u001b[0m: name 'Emp' is not defined"
     ]
    }
   ],
   "source": [
    "import pandas as pd\n",
    "import matplotlib.pyplot as plt\n",
    "id=[102,107,109,114]\n",
    "emp=['parker','jon','cena','william']\n",
    "emp_series=pd.Series(emp)\n",
    "id_series=pd.Series(id)\n",
    "frame={Emp}"
   ]
  },
  {
   "cell_type": "code",
   "execution_count": 7,
   "id": "3d4960ca",
   "metadata": {},
   "outputs": [
    {
     "name": "stdout",
     "output_type": "stream",
     "text": [
      "    ID DEPARTMENT\n",
      "0  101        BSC\n",
      "1  102      BTECH\n",
      "2  103      MTECH\n"
     ]
    }
   ],
   "source": [
    "import pandas as pd\n",
    "info={'ID':[101,102,103],'DEPARTMENT':['BSC','BTECH','MTECH']}\n",
    "df=pd.DataFrame(info)\n",
    "print(df)"
   ]
  },
  {
   "cell_type": "code",
   "execution_count": 10,
   "id": "c25de6d9",
   "metadata": {},
   "outputs": [
    {
     "name": "stdout",
     "output_type": "stream",
     "text": [
      "   one  two\n",
      "a  1.0    1\n",
      "b  2.0    2\n",
      "c  3.0    3\n",
      "d  4.0    4\n",
      "e  5.0    5\n",
      "f  6.0    6\n",
      "g  NaN    7\n",
      "h  NaN    8\n"
     ]
    }
   ],
   "source": [
    "import pandas as pd\n",
    "info={'one':pd.Series([1,2,3,4,5,6],index=['a','b','c','d','e','f']),\n",
    "'two':pd.Series([1,2,3,4,5,6,7,8],index=['a','b','c','d','e','f','g','h'])}\n",
    "d1=pd.DataFrame(info)\n",
    "print(d1)"
   ]
  },
  {
   "cell_type": "code",
   "execution_count": 11,
   "id": "ec5690ba",
   "metadata": {},
   "outputs": [
    {
     "name": "stdout",
     "output_type": "stream",
     "text": [
      "Add new column by passing series\n",
      "   one  two  three\n",
      "a  1.0    1   20.0\n",
      "b  2.0    2   30.0\n",
      "c  3.0    3   40.0\n",
      "d  4.0    4    NaN\n",
      "e  5.0    5    NaN\n",
      "f  NaN    6    NaN\n",
      "Add new column using existing Dataframe colums\n"
     ]
    },
    {
     "ename": "NameError",
     "evalue": "name 'one' is not defined",
     "output_type": "error",
     "traceback": [
      "\u001b[1;31m---------------------------------------------------------------------------\u001b[0m",
      "\u001b[1;31mNameError\u001b[0m                                 Traceback (most recent call last)",
      "Cell \u001b[1;32mIn[11], line 10\u001b[0m\n\u001b[0;32m      8\u001b[0m \u001b[38;5;28mprint\u001b[39m(df)\n\u001b[0;32m      9\u001b[0m \u001b[38;5;28mprint\u001b[39m(\u001b[38;5;124m\"\u001b[39m\u001b[38;5;124mAdd new column using existing Dataframe colums\u001b[39m\u001b[38;5;124m\"\u001b[39m)\n\u001b[1;32m---> 10\u001b[0m df[\u001b[38;5;124m'\u001b[39m\u001b[38;5;124mfour\u001b[39m\u001b[38;5;124m'\u001b[39m]\u001b[38;5;241m=\u001b[39mdf[one]\u001b[38;5;241m+\u001b[39mdf[three]\n\u001b[0;32m     11\u001b[0m \u001b[38;5;28mprint\u001b[39m(df)\n",
      "\u001b[1;31mNameError\u001b[0m: name 'one' is not defined"
     ]
    }
   ],
   "source": [
    "#importing the pandas library\n",
    "import pandas as pd\n",
    "info={'one':pd.Series([1,2,3,4,5],index=['a','b','c','d','e']),\n",
    "     'two':pd.Series([1,2,3,4,5,6],index=['a','b','c','d','e','f'])}\n",
    "df=pd.DataFrame(info)\n",
    "print(\"Add new column by passing series\")\n",
    "df['three']=pd.Series([20,30,40],index=['a','b','c'])\n",
    "print(df)\n",
    "print(\"Add new column using existing Dataframe colums\")\n",
    "df['four']=df[one]+df[three]\n",
    "print(df)"
   ]
  },
  {
   "cell_type": "code",
   "execution_count": 12,
   "id": "c5de0fde",
   "metadata": {},
   "outputs": [
    {
     "name": "stdout",
     "output_type": "stream",
     "text": [
      "0    P\n",
      "1    a\n",
      "2    n\n",
      "3    d\n",
      "4    a\n",
      "5    s\n",
      "dtype: object\n"
     ]
    }
   ],
   "source": [
    "import pandas as pd\n",
    "import numpy as np\n",
    "info = np.array(['P','a','n','d','a','s'])\n",
    "a = pd.Series(info)\n",
    "print(a)"
   ]
  },
  {
   "cell_type": "code",
   "execution_count": 13,
   "id": "305462f5",
   "metadata": {},
   "outputs": [
    {
     "name": "stdout",
     "output_type": "stream",
     "text": [
      "        0\n",
      "0  Python\n",
      "1  Pandas\n"
     ]
    }
   ],
   "source": [
    "#converting list to data frame\n",
    "\n",
    "import pandas as pd\n",
    "x = ['Python', 'Pandas']\n",
    "df = pd.DataFrame(x)\n",
    "print(df)"
   ]
  },
  {
   "cell_type": "code",
   "execution_count": 14,
   "id": "00429511",
   "metadata": {},
   "outputs": [
    {
     "data": {
      "text/plain": [
       "0    Core\n",
       "1     NaN\n",
       "2     NaN\n",
       "3     NaN\n",
       "dtype: object"
      ]
     },
     "execution_count": 14,
     "metadata": {},
     "output_type": "execute_result"
    }
   ],
   "source": [
    "#mapping values\n",
    "import pandas as pd\n",
    "import numpy as np\n",
    "a=pd.Series(['Java','C','C++',np.nan])\n",
    "a.map({'Java':'Core'})#mapping values\n",
    "import pandas as pd\n",
    "import numpy as np\n",
    "a=pd.Series(['Java','C','C++',np.nan])\n",
    "a.map({'Java':'Core'})"
   ]
  },
  {
   "cell_type": "code",
   "execution_count": 15,
   "id": "23e43f2c",
   "metadata": {},
   "outputs": [
    {
     "data": {
      "text/plain": [
       "0    Core\n",
       "1     NaN\n",
       "2     NaN\n",
       "3     NaN\n",
       "dtype: object"
      ]
     },
     "execution_count": 15,
     "metadata": {},
     "output_type": "execute_result"
    }
   ],
   "source": [
    "import pandas as pd\n",
    "import numpy as np\n",
    "a=pd.Series(['Java','C','C++',np.nan])\n",
    "a.map({'Java':'Core'})"
   ]
  },
  {
   "cell_type": "code",
   "execution_count": 16,
   "id": "665dfde5",
   "metadata": {},
   "outputs": [
    {
     "data": {
      "text/html": [
       "<div>\n",
       "<style scoped>\n",
       "    .dataframe tbody tr th:only-of-type {\n",
       "        vertical-align: middle;\n",
       "    }\n",
       "\n",
       "    .dataframe tbody tr th {\n",
       "        vertical-align: top;\n",
       "    }\n",
       "\n",
       "    .dataframe thead th {\n",
       "        text-align: right;\n",
       "    }\n",
       "</style>\n",
       "<table border=\"1\" class=\"dataframe\">\n",
       "  <thead>\n",
       "    <tr style=\"text-align: right;\">\n",
       "      <th></th>\n",
       "      <th>0</th>\n",
       "    </tr>\n",
       "  </thead>\n",
       "  <tbody>\n",
       "    <tr>\n",
       "      <th>0</th>\n",
       "      <td>a</td>\n",
       "    </tr>\n",
       "    <tr>\n",
       "      <th>1</th>\n",
       "      <td>b</td>\n",
       "    </tr>\n",
       "    <tr>\n",
       "      <th>2</th>\n",
       "      <td>c</td>\n",
       "    </tr>\n",
       "  </tbody>\n",
       "</table>\n",
       "</div>"
      ],
      "text/plain": [
       "   0\n",
       "0  a\n",
       "1  b\n",
       "2  c"
      ]
     },
     "execution_count": 16,
     "metadata": {},
     "output_type": "execute_result"
    }
   ],
   "source": [
    "s=pd.Series([\"a\",\"b\",\"c\"])\n",
    "name=\"vals\"\n",
    "s.to_frame()"
   ]
  },
  {
   "cell_type": "code",
   "execution_count": 17,
   "id": "12aaacdf",
   "metadata": {},
   "outputs": [
    {
     "name": "stdout",
     "output_type": "stream",
     "text": [
      "       EMP   ID\n",
      "0   Parker  102\n",
      "1     John  107\n",
      "2    Smith  109\n",
      "3  William  114\n"
     ]
    }
   ],
   "source": [
    "import pandas as pd\n",
    "import matplotlib.pyplot as plt\n",
    "import numpy as np\n",
    "emp = ['Parker','John','Smith','William']\n",
    "ide = [102,107,109,114]\n",
    "emp_series = pd.Series(emp)\n",
    "ide_series = pd.Series(ide)\n",
    "frame = {'EMP':emp_series,'ID':ide_series}\n",
    "result=pd.DataFrame(frame)\n",
    "print(result)"
   ]
  },
  {
   "cell_type": "code",
   "execution_count": 18,
   "id": "697b3418",
   "metadata": {},
   "outputs": [
    {
     "name": "stdout",
     "output_type": "stream",
     "text": [
      "           Name  Age        City\n",
      "0         Amlan   19     Cuttack\n",
      "1       Juhuuuu   18     Asansol\n",
      "2     Pracheeee   20  Rourbanana\n",
      "3  Amryutanshoe   18    Balasore\n",
      "4     Annabelle   19   Michighan\n"
     ]
    }
   ],
   "source": [
    "'''create e dictionary, name, age and city and pass the values to it and convert that to the dataframe '''\n",
    "\n",
    "import pandas as pd\n",
    "info = {'Name':pd.Series(['Amlan','Juhuuuu','Pracheeee','Amryutanshoe','Annabelle']),\n",
    "        'Age':pd.Series([19,18,20,18,19]),\n",
    "        'City':pd.Series(['Cuttack','Asansol','Rourbanana','Balasore','Michighan'])}\n",
    "pookie = pd.DataFrame(info)\n",
    "print(pookie)"
   ]
  },
  {
   "cell_type": "code",
   "execution_count": 19,
   "id": "0fce0dbc",
   "metadata": {},
   "outputs": [
    {
     "name": "stdout",
     "output_type": "stream",
     "text": [
      "   one  two\n",
      "a  1.0    1\n",
      "b  2.0    2\n",
      "c  3.0    3\n",
      "d  4.0    4\n",
      "e  5.0    5\n",
      "f  6.0    6\n",
      "g  NaN    7\n",
      "h  NaN    8\n"
     ]
    }
   ],
   "source": [
    "import pandas as pd\n",
    "info = {'one':pd.Series([1,2,3,4,5,6], index = ['a','b','c','d','e','f']),\n",
    "       'two':pd.Series([1,2,3,4,5,6,7,8],index=['a','b','c','d','e','f','g','h'])}\n",
    "d1 = pd.DataFrame(info)\n",
    "print(d1)"
   ]
  },
  {
   "cell_type": "code",
   "execution_count": 20,
   "id": "e6e37d40",
   "metadata": {},
   "outputs": [
    {
     "name": "stdout",
     "output_type": "stream",
     "text": [
      "  stud_name  stud_id  Dept Grade\n",
      "0         X      101   FET     A\n",
      "1         Y      102   FOS     A\n",
      "2         Z      103   FMS     D\n",
      "3         W      104  FOAg     B\n",
      "4         V      105   FET     A\n",
      "5         U      106   FOS     C\n",
      "\n",
      "\n"
     ]
    },
    {
     "data": {
      "text/plain": [
       "stud_name      Z\n",
       "stud_id      103\n",
       "Dept         FMS\n",
       "Grade          D\n",
       "Name: 2, dtype: object"
      ]
     },
     "execution_count": 20,
     "metadata": {},
     "output_type": "execute_result"
    }
   ],
   "source": [
    "#Assesment 3 \n",
    "\n",
    "'''Create a dict with\n",
    "stud name\n",
    "stud id\n",
    "dept\n",
    "grade\n",
    "Note: Pass values for each\n",
    "\n",
    "Convert it into a Data Frame\n",
    "\n",
    "1. Retrieve using the dept name\n",
    "2. Retreive using the iloc of 2\n",
    "3. Retreive using the id of the students'''\n",
    "\n",
    "stud = {'stud_name':pd.Series(['X','Y','Z','W','V','U']),\n",
    "        'stud_id':pd.Series([101,102,103,104,105,106]),\n",
    "        'Dept':pd.Series(['FET','FOS','FMS','FOAg','FET','FOS']),\n",
    "        'Grade':pd.Series(['A','A','D','B','A','C'])}\n",
    "frame3 = pd.DataFrame(stud)\n",
    "print(frame3)\n",
    "print('\\n')\n",
    "\n",
    "#1. Retreiving using the dept names\n",
    "frame3.loc[2]"
   ]
  },
  {
   "cell_type": "code",
   "execution_count": 21,
   "id": "cf40e8d8",
   "metadata": {},
   "outputs": [
    {
     "name": "stdout",
     "output_type": "stream",
     "text": [
      "           Name  Age        City\n",
      "0         Amlan   19     Cuttack\n",
      "1       Juhuuuu   18     Asansol\n",
      "2     Pracheeee   20  Rourbanana\n",
      "3  Amryutanshoe   18    Balasore\n",
      "4     Annabelle   19   Michighan\n"
     ]
    }
   ],
   "source": [
    "'''create e dictionary, name, age and city and pass the values to it and convert that to the dataframe '''\n",
    "\n",
    "import pandas as pd\n",
    "info = {'Name':pd.Series(['Amlan','Juhuuuu','Pracheeee','Amryutanshoe','Annabelle']),\n",
    "        'Age':pd.Series([19,18,20,18,19]),\n",
    "        'City':pd.Series(['Cuttack','Asansol','Rourbanana','Balasore','Michighan'])}\n",
    "pookie = pd.DataFrame(info)\n",
    "print(pookie)"
   ]
  },
  {
   "cell_type": "code",
   "execution_count": 22,
   "id": "0a7d08a3",
   "metadata": {},
   "outputs": [
    {
     "name": "stdout",
     "output_type": "stream",
     "text": [
      "   one  two\n",
      "a  1.0    1\n",
      "b  2.0    2\n",
      "c  3.0    3\n",
      "d  4.0    4\n",
      "e  5.0    5\n",
      "f  6.0    6\n",
      "g  NaN    7\n",
      "h  NaN    8\n"
     ]
    }
   ],
   "source": [
    "import pandas as pd\n",
    "info = {'one':pd.Series([1,2,3,4,5,6], index = ['a','b','c','d','e','f']),\n",
    "       'two':pd.Series([1,2,3,4,5,6,7,8],index=['a','b','c','d','e','f','g','h'])}\n",
    "d1 = pd.DataFrame(info)\n",
    "print(d1)"
   ]
  },
  {
   "cell_type": "code",
   "execution_count": null,
   "id": "1763de45",
   "metadata": {},
   "outputs": [],
   "source": []
  }
 ],
 "metadata": {
  "kernelspec": {
   "display_name": "Python 3 (ipykernel)",
   "language": "python",
   "name": "python3"
  },
  "language_info": {
   "codemirror_mode": {
    "name": "ipython",
    "version": 3
   },
   "file_extension": ".py",
   "mimetype": "text/x-python",
   "name": "python",
   "nbconvert_exporter": "python",
   "pygments_lexer": "ipython3",
   "version": "3.11.4"
  }
 },
 "nbformat": 4,
 "nbformat_minor": 5
}
